{
 "cells": [
  {
   "cell_type": "code",
   "execution_count": 5,
   "id": "ceb1f96d",
   "metadata": {},
   "outputs": [
    {
     "name": "stdout",
     "output_type": "stream",
     "text": [
      "1\n",
      "2\n",
      "3\n",
      "4\n",
      "5\n",
      "6\n",
      "7\n",
      "8\n",
      "9\n",
      "10\n",
      "Hello Animesh\n",
      "Hello Animesh\n",
      "Hello Animesh\n"
     ]
    }
   ],
   "source": [
    "# While Loop in Python\n",
    "# In Python, a while loop is used to execute a block of statements repeatedly until a given condition is satisfied. When the condition becomes false, the line immediately after the loop in the program is executed.\n",
    "\n",
    "# Python While Loop Syntax:\n",
    "# while expression:\n",
    "#     statement(s)\n",
    "\n",
    "#Example of While Loop:\n",
    "i=0\n",
    "while(i<10):\n",
    "    i=i+1\n",
    "    print(i)\n",
    "\n",
    "cnt = 0\n",
    "while (cnt < 3):\n",
    "    cnt = cnt + 1\n",
    "    print(\"Hello Animesh\")"
   ]
  },
  {
   "cell_type": "code",
   "execution_count": 10,
   "id": "40f8ab93",
   "metadata": {},
   "outputs": [
    {
     "name": "stdout",
     "output_type": "stream",
     "text": [
      "Hello Geek\n",
      "Hello Geek\n",
      "Hello Geek\n",
      "In Else Block\n"
     ]
    }
   ],
   "source": [
    "# Using else statement with While Loop in Python\n",
    "\n",
    "# Else clause is only executed when our while condition becomes false. If we break out of the loop or if an exception is raised then it won't be executed. \n",
    "\n",
    "# Syntax of While Loop with else statement:\n",
    "\n",
    "# while condition:\n",
    "#      # execute these statements\n",
    "# else:\n",
    "#      # execute these statements\n",
    "\n",
    "# Example:\n",
    "\n",
    "# The code prints \"Hello Geek\" three times using a 'while' loop and then after the loop it prints \"In Else Block\" because there is an \"else\" block associated with the 'while' loop.\n",
    "\n",
    "cnt = 0\n",
    "while (cnt < 3):\n",
    "    cnt = cnt + 1\n",
    "    print(\"Hello Geek\")\n",
    "else:\n",
    "    print(\"In Else Block\")\n"
   ]
  },
  {
   "cell_type": "code",
   "execution_count": 11,
   "id": "59e4f8fc",
   "metadata": {},
   "outputs": [
    {
     "name": "stdout",
     "output_type": "stream",
     "text": [
      "0\n",
      "1\n",
      "2\n",
      "3\n",
      "geeks\n",
      "for\n",
      "geeks\n",
      "geeks\n",
      "for\n",
      "geeks\n",
      "G\n",
      "e\n",
      "e\n",
      "k\n",
      "s\n",
      "x  123\n",
      "y  354\n",
      "1\n",
      "2\n",
      "3\n",
      "4\n",
      "5\n",
      "6\n"
     ]
    }
   ],
   "source": [
    "# For Loop in Python\n",
    "# For loops are used for sequential traversal. For example: traversing a list or string or array etc. In Python, there is \"for in\" loop which is similar to foreach loop in other languages. Let us learn how to use for loops in Python for sequential traversals with examples.\n",
    "\n",
    "# For Loop Syntax:\n",
    "# for iterator_var in sequence:\n",
    "#     statements(s)\n",
    "\n",
    "n = 4\n",
    "for i in range(0, n):\n",
    "    print(i)\n",
    "\n",
    "li = [\"geeks\", \"for\", \"geeks\"]\n",
    "for i in li:\n",
    "    print(i)\n",
    "    \n",
    "tup = (\"geeks\", \"for\", \"geeks\")\n",
    "for i in tup:\n",
    "    print(i)\n",
    "    \n",
    "s = \"Geeks\"\n",
    "for i in s:\n",
    "    print(i)\n",
    "    \n",
    "d = dict({'x':123, 'y':354})\n",
    "for i in d:\n",
    "    print(\"%s  %d\" % (i, d[i]))\n",
    "    \n",
    "set1 = {1, 2, 3, 4, 5, 6}\n",
    "for i in set1:\n",
    "    print(i),"
   ]
  },
  {
   "cell_type": "code",
   "execution_count": 12,
   "id": "107b502d",
   "metadata": {},
   "outputs": [
    {
     "name": "stdout",
     "output_type": "stream",
     "text": [
      "geeks\n",
      "for\n",
      "geeks\n"
     ]
    }
   ],
   "source": [
    "# Iterating by the Index of Sequences\n",
    "# We can also use the index of elements in the sequence to iterate. The key idea is to first calculate the length of the list and in iterate over the sequence within the range of this length.\n",
    "\n",
    "list = [\"geeks\", \"for\", \"geeks\"]\n",
    "for index in range(len(list)):\n",
    "    print(list[index])"
   ]
  },
  {
   "cell_type": "code",
   "execution_count": 13,
   "id": "3f625d34",
   "metadata": {},
   "outputs": [
    {
     "name": "stdout",
     "output_type": "stream",
     "text": [
      "1 \n",
      "2 2 \n",
      "3 3 3 \n",
      "4 4 4 4 \n"
     ]
    }
   ],
   "source": [
    "from __future__ import print_function\n",
    "for i in range(1, 5):\n",
    "    for j in range(i):\n",
    "        print(i, end=' ')\n",
    "    print()"
   ]
  },
  {
   "cell_type": "code",
   "execution_count": 14,
   "id": "d69c84ae",
   "metadata": {},
   "outputs": [
    {
     "name": "stdout",
     "output_type": "stream",
     "text": [
      "Current Letter : g\n",
      "Current Letter : k\n",
      "Current Letter : f\n",
      "Current Letter : o\n",
      "Current Letter : r\n",
      "Current Letter : g\n",
      "Current Letter : k\n"
     ]
    }
   ],
   "source": [
    "for letter in 'geeksforgeeks':\n",
    "    if letter == 'e' or letter == 's':\n",
    "        continue\n",
    "    print('Current Letter :', letter)"
   ]
  },
  {
   "cell_type": "code",
   "execution_count": 15,
   "id": "53d68656",
   "metadata": {},
   "outputs": [
    {
     "name": "stdout",
     "output_type": "stream",
     "text": [
      "Current Letter : e\n"
     ]
    }
   ],
   "source": [
    "for letter in 'geeksforgeeks':\n",
    "    if letter == 'e' or letter == 's':\n",
    "        break\n",
    "\n",
    "print('Current Letter :', letter)"
   ]
  },
  {
   "cell_type": "code",
   "execution_count": 16,
   "id": "5fd3c37a",
   "metadata": {},
   "outputs": [
    {
     "name": "stdout",
     "output_type": "stream",
     "text": [
      "Last Letter : s\n"
     ]
    }
   ],
   "source": [
    "for letter in 'geeksforgeeks':\n",
    "    pass\n",
    "print('Last Letter :', letter)"
   ]
  },
  {
   "cell_type": "code",
   "execution_count": 17,
   "id": "519c253b",
   "metadata": {},
   "outputs": [
    {
     "name": "stdout",
     "output_type": "stream",
     "text": [
      "apple\n",
      "orange\n",
      "kiwi\n"
     ]
    }
   ],
   "source": [
    "fruits = [\"apple\", \"orange\", \"kiwi\"]\n",
    "\n",
    "for fruit in fruits:\n",
    "\n",
    "    print(fruit)"
   ]
  },
  {
   "cell_type": "code",
   "execution_count": 18,
   "id": "5d409561",
   "metadata": {},
   "outputs": [
    {
     "name": "stdout",
     "output_type": "stream",
     "text": [
      "apple\n",
      "orange\n",
      "kiwi\n"
     ]
    }
   ],
   "source": [
    "fruits = [\"apple\", \"orange\", \"kiwi\"]\n",
    "iter_obj = iter(fruits)\n",
    "while True:\n",
    "    try:\n",
    "        fruit = next(iter_obj)\n",
    "        print(fruit)\n",
    "    except StopIteration:\n",
    "        break"
   ]
  },
  {
   "cell_type": "code",
   "execution_count": null,
   "id": "0ce1cf83",
   "metadata": {},
   "outputs": [],
   "source": []
  }
 ],
 "metadata": {
  "kernelspec": {
   "display_name": "base",
   "language": "python",
   "name": "python3"
  },
  "language_info": {
   "codemirror_mode": {
    "name": "ipython",
    "version": 3
   },
   "file_extension": ".py",
   "mimetype": "text/x-python",
   "name": "python",
   "nbconvert_exporter": "python",
   "pygments_lexer": "ipython3",
   "version": "3.12.4"
  }
 },
 "nbformat": 4,
 "nbformat_minor": 5
}
