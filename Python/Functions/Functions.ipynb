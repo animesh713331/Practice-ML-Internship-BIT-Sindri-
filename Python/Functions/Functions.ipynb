{
 "cells": [
  {
   "cell_type": "code",
   "execution_count": 1,
   "id": "13f880aa",
   "metadata": {},
   "outputs": [
    {
     "name": "stdout",
     "output_type": "stream",
     "text": [
      "Hello\n"
     ]
    }
   ],
   "source": [
    "# Python def keyword is used to define a function, it is placed before a function name that is provided by the user to create a user-defined function. In Python, a function is a logical unit of code containing a sequence of statements indented under a name given using the “def” keyword. In Python def keyword is the most used keyword.\n",
    "\n",
    "#defining function\n",
    "def func():\n",
    "    print(\"Hello\")\n",
    "#Calling Function \n",
    "func()"
   ]
  },
  {
   "cell_type": "markdown",
   "id": "8defb149",
   "metadata": {},
   "source": [
    "![Function Definition](./Screenshot%202025-06-21%20232133.png)\n"
   ]
  },
  {
   "cell_type": "code",
   "execution_count": 2,
   "id": "d57a9531",
   "metadata": {},
   "outputs": [
    {
     "name": "stdout",
     "output_type": "stream",
     "text": [
      "Result is :  40\n"
     ]
    }
   ],
   "source": [
    "# Example 1: Create function to find the subtraction of two Numbers\n",
    "\n",
    "def subNumbers(x,y):\n",
    "    return (x-y)\n",
    "\n",
    "a=90 \n",
    "b=50\n",
    "\n",
    "res=subNumbers(a,b)\n",
    "\n",
    "print(\"Result is : \",res)"
   ]
  },
  {
   "cell_type": "code",
   "execution_count": 3,
   "id": "231e574e",
   "metadata": {},
   "outputs": [
    {
     "name": "stdout",
     "output_type": "stream",
     "text": [
      "2\n",
      "3\n",
      "5\n",
      "7\n",
      "11\n",
      "13\n",
      "17\n",
      "19\n",
      "23\n",
      "29\n"
     ]
    }
   ],
   "source": [
    "# Python program to print first 10 prime numbers\n",
    "\n",
    "# A function name prime is defined\n",
    "# using def\n",
    "def fun(n):\n",
    "    x = 2\n",
    "    count = 0\n",
    "    while count < n:\n",
    "        for d in range(2, int(x ** 0.5) + 1):  # check divisibility only up to sqrt(x)\n",
    "            if x % d == 0:\n",
    "                break  # if divisible, it's not prime, so break the loop\n",
    "        else:\n",
    "            print(x)  # prime number\n",
    "            count += 1\n",
    "        x += 1\n",
    "\n",
    "# Driver Code\n",
    "n = 10\n",
    "\n",
    "fun(n)"
   ]
  },
  {
   "cell_type": "code",
   "execution_count": 6,
   "id": "131c42dd",
   "metadata": {},
   "outputs": [
    {
     "name": "stdout",
     "output_type": "stream",
     "text": [
      "25\n"
     ]
    }
   ],
   "source": [
    "#Passing Function as an Argument\n",
    "\n",
    "def fun(func,arg):\n",
    "    return func(arg)\n",
    "\n",
    "def square(x):\n",
    "    return x**2\n",
    "\n",
    "#Calling  fun and passing square function as an argument\n",
    "res = fun(square,5)\n",
    "print(res)"
   ]
  },
  {
   "cell_type": "code",
   "execution_count": 7,
   "id": "151ef5a8",
   "metadata": {},
   "outputs": [
    {
     "name": "stdout",
     "output_type": "stream",
     "text": [
      "1\n",
      "2\n",
      "3\n",
      "4\n",
      "5\n"
     ]
    }
   ],
   "source": [
    "# In Python, *args is used to pass a variable number of arguments to a function. The * allows a function to accept any number of positional arguments. This is useful when we are not sure how many arguments will be passed to the function.\n",
    "\n",
    "def fun(*args):\n",
    "    for arg in args:\n",
    "        print(arg)\n",
    "\n",
    "#Calling the function with multiple arguments\n",
    "fun(1,2,3,4,5)"
   ]
  },
  {
   "cell_type": "code",
   "execution_count": 8,
   "id": "16e9ddfa",
   "metadata": {},
   "outputs": [
    {
     "name": "stdout",
     "output_type": "stream",
     "text": [
      "name: Alice\n",
      "age: 30\n",
      "city: New York\n"
     ]
    }
   ],
   "source": [
    "# Python def keyword example with **kwargs\n",
    "# In Python, **kwargs is used to pass a variable number of keyword arguments to a function. The ** syntax collects the keyword arguments into a dictionary, where the keys are the argument names and the values are the corresponding argument values. This allows the function to accept any number of named (keyword) arguments.\n",
    "\n",
    "def fun(**kwargs):\n",
    "    for k, val in kwargs.items():\n",
    "        print(f\"{k}: {val}\")\n",
    "\n",
    "# Calling the function with keyword arguments\n",
    "fun(name=\"Alice\", age=30, city=\"New York\")"
   ]
  },
  {
   "cell_type": "code",
   "execution_count": 9,
   "id": "0bab0b5f",
   "metadata": {},
   "outputs": [
    {
     "name": "stdout",
     "output_type": "stream",
     "text": [
      "Name - Alice and Age - 30.\n"
     ]
    }
   ],
   "source": [
    "# Python def keyword example with the class\n",
    "# In Python, the def keyword is used to define functions and it can also be used to define methods inside a class. A method is a function that is associated with an object and is called using the instance of the class.\n",
    "\n",
    "class Person:\n",
    "    # Constructor to initialize the person's name and age\n",
    "    def __init__(self, name, age):\n",
    "        self.name = name  # Set the name attribute\n",
    "        self.age = age    # Set the age attribute\n",
    "    \n",
    "    # Method to print a greeting message\n",
    "    def greet(self):\n",
    "        print(f\"Name - {self.name} and Age - {self.age}.\")\n",
    "\n",
    "# Create an instance of the Person class\n",
    "p1 = Person(\"Alice\", 30)\n",
    "\n",
    "# Call the greet method to display the greeting message\n",
    "p1.greet()\n",
    "\n",
    "\n"
   ]
  },
  {
   "cell_type": "markdown",
   "id": "935ff010",
   "metadata": {},
   "source": [
    "Python Return Statement"
   ]
  },
  {
   "cell_type": "code",
   "execution_count": 10,
   "id": "1df1e754",
   "metadata": {},
   "outputs": [
    {
     "name": "stdout",
     "output_type": "stream",
     "text": [
      "5\n",
      "True\n"
     ]
    }
   ],
   "source": [
    "# A return statement is used to end the execution of the function call and it \"returns\" the value of the expression following the return keyword to the caller.\n",
    "\n",
    "def add(a, b):\n",
    "\n",
    "    # returning sum of a and b\n",
    "    return a + b\n",
    "\n",
    "def is_true(a):\n",
    "\n",
    "    # returning boolean of a\n",
    "    return bool(a)\n",
    "\n",
    "# calling function\n",
    "res = add(2, 3)\n",
    "print(res)\n",
    "\n",
    "res = is_true(2<5)\n",
    "print(res)"
   ]
  },
  {
   "cell_type": "code",
   "execution_count": 14,
   "id": "adf61f65",
   "metadata": {},
   "outputs": [
    {
     "name": "stdout",
     "output_type": "stream",
     "text": [
      "Alice\n",
      "30\n"
     ]
    }
   ],
   "source": [
    "# Returning Multiple Values\n",
    "\n",
    "def fun():\n",
    "    name = \"Alice\"\n",
    "    age = 30\n",
    "    return name, age\n",
    "\n",
    "name, age = fun()\n",
    "print(name)  \n",
    "print(age)   # Output: 30"
   ]
  },
  {
   "cell_type": "code",
   "execution_count": 16,
   "id": "642904db",
   "metadata": {},
   "outputs": [
    {
     "name": "stdout",
     "output_type": "stream",
     "text": [
      "[9, 27]\n"
     ]
    }
   ],
   "source": [
    "#Returning List\n",
    "\n",
    "def fun(n):\n",
    "    return [n**2, n**3]\n",
    "\n",
    "res=fun(3)\n",
    "print(res)"
   ]
  },
  {
   "cell_type": "code",
   "execution_count": 17,
   "id": "91a0221a",
   "metadata": {},
   "outputs": [
    {
     "name": "stdout",
     "output_type": "stream",
     "text": [
      "Message: Hello, World!\n"
     ]
    }
   ],
   "source": [
    "# Function returning another function\n",
    "\n",
    "def fun1(msg):\n",
    "    def fun2():\n",
    "        # Using the outer function's message\n",
    "        return f\"Message: {msg}\"\n",
    "    return fun2\n",
    "\n",
    "# Getting the inner function\n",
    "fun3 = fun1(\"Hello, World!\")\n",
    "\n",
    "# Calling the inner function\n",
    "print(fun3())"
   ]
  },
  {
   "cell_type": "code",
   "execution_count": null,
   "id": "fa720fe8",
   "metadata": {},
   "outputs": [
    {
     "name": "stdout",
     "output_type": "stream",
     "text": [
      "Hello from inside the function!\n"
     ]
    }
   ],
   "source": [
    "# Python Local Variables\n",
    "# Local variables are created within a function and exist only during its execution. They're not accessible from outside the function.\n",
    "\n",
    "# Example 1: In this example, we are creating and accessing a local variable inside a function.\n",
    "\n",
    "def greet():\n",
    "    msg = \"Hello from inside the function!\"\n",
    "    print(msg)\n",
    "\n",
    "greet()\n",
    "\n",
    "# Example 2: In this example, we are creating a local variable inside a function and then trying to access it outside the function, which causes an error.\n",
    "\n",
    "\n",
    "# def greet():\n",
    "#     msg = \"Hello!\"\n",
    "#     print(\"Inside function:\", msg)\n",
    "\n",
    "# greet()\n",
    "# print(\"Outside function:\", msg)"
   ]
  },
  {
   "cell_type": "code",
   "execution_count": 19,
   "id": "727287be",
   "metadata": {},
   "outputs": [
    {
     "name": "stdout",
     "output_type": "stream",
     "text": [
      "Inside function: Python is awesome!\n",
      "Outside function: Python is awesome!\n",
      "Inside Function I love Geeksforgeeks\n",
      "Outside Function I love Geeksforgeeks\n"
     ]
    }
   ],
   "source": [
    "# Python Global Variables\n",
    "# Global variables are defined outside all functions. They can be accessed and used in any part of the program, including inside functions.\n",
    "\n",
    "# # Example 1: In this example, we are creating a global variable and then accessing it both inside and outside a function.\n",
    "\n",
    "msg = \"Python is awesome!\"\n",
    "\n",
    "def display():\n",
    "    print(\"Inside function:\", msg)\n",
    "\n",
    "display()\n",
    "print(\"Outside function:\", msg)\n",
    "\n",
    "# Example 2: In this example, we're creating a global variable and then using it both inside and outside a function.\n",
    "\n",
    "def fun():\n",
    "    print(\"Inside Function\", s)\n",
    "\n",
    "# Global scope\n",
    "s = \"I love Geeksforgeeks\"\n",
    "fun()\n",
    "print(\"Outside Function\", s)\n",
    "\n"
   ]
  },
  {
   "cell_type": "markdown",
   "id": "42805cdd",
   "metadata": {},
   "source": [
    "## Global VS Local Variable in Python\n",
    "![GlobalvsLocal](./Screenshot%202025-06-22%20012528.png)"
   ]
  },
  {
   "cell_type": "markdown",
   "id": "e7beda9e",
   "metadata": {},
   "source": [
    "Decorators in Python\n",
    "Last Updated : 03 Jun, 2025\n",
    "In Python, decorators are a powerful and flexible way to modify or extend the behavior of functions or methods, without changing their actual code. A decorator is essentially a function that takes another function as an argument and returns a new function with enhanced functionality.\n",
    "\n",
    "Decorators are often used in scenarios such as logging, authentication and memorization, allowing us to add additional functionality to existing functions or methods in a clean, reusable way."
   ]
  },
  {
   "cell_type": "code",
   "execution_count": 20,
   "id": "bc98d7cd",
   "metadata": {},
   "outputs": [
    {
     "name": "stdout",
     "output_type": "stream",
     "text": [
      "Before calling the function.\n",
      "Hello, World!\n",
      "After calling the function.\n"
     ]
    }
   ],
   "source": [
    "# A simple decorator function\n",
    "def decorator(func):\n",
    "  \n",
    "    def wrapper():\n",
    "        print(\"Before calling the function.\")\n",
    "        func()\n",
    "        print(\"After calling the function.\")\n",
    "    return wrapper\n",
    "\n",
    "# Applying the decorator to a function\n",
    "@decorator\n",
    "\n",
    "def greet():\n",
    "    print(\"Hello, World!\")\n",
    "\n",
    "greet()"
   ]
  }
 ],
 "metadata": {
  "kernelspec": {
   "display_name": "base",
   "language": "python",
   "name": "python3"
  },
  "language_info": {
   "codemirror_mode": {
    "name": "ipython",
    "version": 3
   },
   "file_extension": ".py",
   "mimetype": "text/x-python",
   "name": "python",
   "nbconvert_exporter": "python",
   "pygments_lexer": "ipython3",
   "version": "3.12.4"
  }
 },
 "nbformat": 4,
 "nbformat_minor": 5
}
