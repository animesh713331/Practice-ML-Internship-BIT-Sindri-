{
 "cells": [
  {
   "cell_type": "markdown",
   "id": "eb4eaccb",
   "metadata": {},
   "source": [
    "# Python Data Types\n",
    "\n",
    "## 📊 Visual Classification\n",
    "\n",
    "![Python Data Types](Screenshot%202025-06-20%20110016.png)\n",
    "\n",
    "---\n",
    "\n",
    "## 📘 Description\n",
    "\n",
    "Python Data types are the classification or categorization of data items. It represents the kind of value that tells what operations can be performed on a particular data.\n",
    "\n",
    "Since everything is an object in Python programming, Python data types are classes and variables are instances (objects) of these classes.\n",
    "\n",
    "---\n",
    "\n",
    "## 🧠 Standard Built-in Data Types\n",
    "\n",
    "- **Numeric** – `int`, `float`, `complex`\n",
    "- **Sequence Type** – `string`, `list`, `tuple`\n",
    "- **Mapping Type** – `dict`\n",
    "- **Boolean** – `bool`\n",
    "- **Set Type** – `set`, `frozenset`\n",
    "- **Binary Types** – `bytes`, `bytearray`, `memoryview`\n",
    "\n",
    "---\n",
    "\n",
    "## 🧱 Python Data Types Structure\n",
    "\n",
    "![Data Types Breakdown](./Screenshot%202025-06-20%20110043.png)\n",
    "\n"
   ]
  },
  {
   "cell_type": "code",
   "execution_count": null,
   "id": "f21dc9dc",
   "metadata": {},
   "outputs": [
    {
     "name": "stdout",
     "output_type": "stream",
     "text": [
      "('geeks', 'for', 'geeks')\n"
     ]
    }
   ],
   "source": [
    "#Assign different Data types to a variabe\n",
    "#int, float, string, list and set\n",
    "x = 50\n",
    "x = 60.5\n",
    "x = \"Hello World\"\n",
    "x = [\"geeks\", \"for\", \"geeks\"]\n",
    "x = (\"geeks\", \"for\", \"geeks\")\n",
    "print(x)"
   ]
  },
  {
   "cell_type": "code",
   "execution_count": 3,
   "id": "1c90411a",
   "metadata": {},
   "outputs": [
    {
     "name": "stdout",
     "output_type": "stream",
     "text": [
      "<class 'int'>\n",
      "<class 'float'>\n",
      "<class 'complex'>\n"
     ]
    }
   ],
   "source": [
    "#Numeric Data Types in Python \n",
    "# 1.Integer 2.Float 3.Complex Number \n",
    "a=5\n",
    "print(type(a))\n",
    "\n",
    "b=5.0\n",
    "print(type(b))\n",
    "\n",
    "c=2+4j\n",
    "print(type(c))\n"
   ]
  },
  {
   "cell_type": "code",
   "execution_count": null,
   "id": "7fc8ae75",
   "metadata": {},
   "outputs": [
    {
     "name": "stdout",
     "output_type": "stream",
     "text": [
      "Animesh Kumar Singh - B.Tech CSE(IoT) - GEC Vaishali\n",
      "<class 'str'>\n",
      "n\n",
      "i\n",
      "i\n"
     ]
    }
   ],
   "source": [
    "#Sequence Data Type in Python\n",
    "# 1.String 2.List 3.Tuple\n",
    "\n",
    "# String\n",
    "# Python Strings are arrays of bytes representing Unicode characters. In Python, there is no character data type Python, a character is a string of length one. It is represented by str class.\n",
    "\n",
    "s='Animesh Kumar Singh - B.Tech CSE(IoT) - GEC Vaishali'\n",
    "print(s)\n",
    "print(type(s))\n",
    "print(s[1])\n",
    "print(s[2])\n",
    "print(s[-1])"
   ]
  },
  {
   "cell_type": "code",
   "execution_count": null,
   "id": "3079745a",
   "metadata": {},
   "outputs": [
    {
     "name": "stdout",
     "output_type": "stream",
     "text": [
      "[1, 2, 3]\n",
      "<class 'list'>\n",
      "['Animesh', 'BIT Sindri', 'ML', 4, 5.6]\n",
      "Accessing element from the list\n",
      "Animesh\n",
      "Kumar\n",
      "Accessing element using negative indexing\n",
      "Singh\n",
      "Animesh\n"
     ]
    }
   ],
   "source": [
    "#List \n",
    "# Lists are just like arrays, declared in other languages which is an ordered collection of data. It is very flexible as the items in a list do not need to be of the same type.\n",
    "\n",
    "a=[] #Empty List\n",
    "a=[1,2,3]\n",
    "print(a)\n",
    "print(type(a))\n",
    "\n",
    "b=[\"Animesh\",\"BIT Sindri\",\"ML\",4,5.6] #Mixed List\n",
    "print(b)\n",
    "\n",
    "#Access List Item \n",
    "a = [\"Animesh\", \"Kumar\", \"Singh\"]\n",
    "print(\"Accessing element from the list\")\n",
    "print(a[0])\n",
    "print(a[1])\n",
    "\n",
    "print(\"Accessing element using negative indexing\")\n",
    "print(a[-1])\n",
    "print(a[-3])"
   ]
  },
  {
   "cell_type": "code",
   "execution_count": null,
   "id": "8e8f0e6d",
   "metadata": {},
   "outputs": [
    {
     "name": "stdout",
     "output_type": "stream",
     "text": [
      "\n",
      " Tuple with the use of String:  ('Animesh', 'Kumar')\n",
      "1\n",
      "5\n",
      "3\n"
     ]
    }
   ],
   "source": [
    "#Tuple \n",
    "# Just like a list, a tuple is also an ordered collection of Python objects. The only difference between a tuple and a list is that tuples are immutable. Tuples cannot be modified after it is created.\n",
    "\n",
    "tup1=() #Empty Tuple\n",
    "\n",
    "tup2=('Animesh','Kumar')\n",
    "print(\"\\n Tuple with the use of String: \",tup2)\n",
    "\n",
    "#Access Tuple item \n",
    "tup1=tuple([1,2,3,4,5])\n",
    "print(tup1[0])\n",
    "print(tup1[-1])\n",
    "print(tup1[-3])\n"
   ]
  },
  {
   "cell_type": "code",
   "execution_count": null,
   "id": "5a1d33e8",
   "metadata": {},
   "outputs": [
    {
     "name": "stdout",
     "output_type": "stream",
     "text": [
      "<class 'bool'>\n",
      "<class 'bool'>\n"
     ]
    }
   ],
   "source": [
    "#Other Data Types \n",
    "#1.Boolean #2.Dictionary 3.Set\n",
    "\n",
    "#1. Boolean \n",
    "# Python Data type with one of the two built-in values, True or False. Boolean objects that are equal to True are truthy (true), and those equal to False are falsy (false). However non-Boolean objects can be evaluated in a Boolean context as well and determined to be true or false. It is denoted by the class bool.\n",
    "\n",
    "print(type(True))\n",
    "print(type(False))\n",
    "\n",
    "#print(type(true))\n",
    "#Traceback (most recent call last):\n",
    "#   File \"/home/7e8862763fb66153d70824099d4f5fb7.py\", line 8, in \n",
    "#     print(type(true))\n",
    "# NameError: name 'true' is not defined"
   ]
  },
  {
   "cell_type": "code",
   "execution_count": 7,
   "id": "82c34c8d",
   "metadata": {},
   "outputs": [
    {
     "name": "stdout",
     "output_type": "stream",
     "text": [
      "{1: 'Animesh', 2: 'Kumar', 3: 'Singh'}\n",
      "{1: 'Animesh', 2: 'Kumar', 3: 'Singh'}\n",
      "Animesh\n",
      "CSE(IoT)\n"
     ]
    }
   ],
   "source": [
    "#2. Dictionary\n",
    "# A dictionary in Python is a collection of data values, used to store data values like a map, unlike other Python Data Types that hold only a single value as an element, a Dictionary holds a key: value pair. Key-value is provided in the dictionary to make it more optimized. Each key-value pair in a Dictionary is separated by a colon : , whereas each key is separated by a ‘comma’.\n",
    "\n",
    "d={} #Empty Dictionary\n",
    "\n",
    "d={1:'Animesh',2:'Kumar',3:'Singh'}\n",
    "print(d)\n",
    "\n",
    "d1=dict({1:'Animesh',2:'Kumar',3:'Singh'})\n",
    "print(d1)\n",
    "\n",
    "#Accessing Key Value in Dictionary \n",
    "d={'name':'Animesh','Reg':'23155135012',3:'CSE(IoT)'}\n",
    "print(d['name']) #Using Key\n",
    "print(d.get(3)) #Using get\n"
   ]
  },
  {
   "cell_type": "code",
   "execution_count": 13,
   "id": "dff8d904",
   "metadata": {},
   "outputs": [
    {
     "name": "stdout",
     "output_type": "stream",
     "text": [
      "Set with the use of String:  {'s', 'm', 'e', 'i', 'K', 'u', 'a', 'r', 'S', 'n', 'h', 'g', 'A'}\n",
      "Set with the use of List:  {'Kumar', 'Animesh', 'Singh'}\n",
      "{'Kumar', 'Animesh', 'Singh'}\n",
      "Kumar Animesh Singh False\n"
     ]
    }
   ],
   "source": [
    "#3. Set\n",
    "\n",
    "# In Python Data Types, Set is an unordered collection of data types that is iterable, mutable, and has no duplicate elements. The order of elements in a set is undefined though it may consist of various elements.\n",
    "\n",
    "# initializing empty set\n",
    "s1 = set()\n",
    "\n",
    "s1 = set(\"AnimeshKumarSingh\")\n",
    "print(\"Set with the use of String: \", s1)\n",
    "\n",
    "s2 = set([\"Animesh\", \"Kumar\", \"Singh\"])\n",
    "print(\"Set with the use of List: \", s2)\n",
    "\n",
    "#Access Set Items\n",
    "set1 = set([\"Animesh\", \"Kumar\", \"Singh\"])\n",
    "print(set1)\n",
    "\n",
    "# loop through set\n",
    "for i in set1:\n",
    "    print(i, end=\" \")\n",
    "    \n",
    "# check if item exist in set    \n",
    "print(\"Kr\\n\" in set1)\n"
   ]
  },
  {
   "cell_type": "code",
   "execution_count": 2,
   "id": "b003ce53",
   "metadata": {},
   "outputs": [
    {
     "name": "stdout",
     "output_type": "stream",
     "text": [
      "['Apple', 'Banana', 'Orange']\n",
      "['Apple', 'Banana', 'Orange', 'Grape']\n"
     ]
    }
   ],
   "source": [
    "#Q1. Implement Basic List Operation\n",
    "\n",
    "fruits=[\"Apple\",\"Banana\",\"Orange\"]\n",
    "print(fruits)\n",
    "fruits.append(\"Grape\")\n",
    "print(fruits)\n",
    "fruits.remove(\"Orange\")"
   ]
  },
  {
   "cell_type": "code",
   "execution_count": 4,
   "id": "fedc8d14",
   "metadata": {},
   "outputs": [
    {
     "name": "stdout",
     "output_type": "stream",
     "text": [
      "(3, 5)\n",
      "X-coordinate: 3\n",
      "Y-coordinates: 5\n"
     ]
    }
   ],
   "source": [
    "#Q2. Implement Bssic Tuple Operation \n",
    "\n",
    "coordinates=(3,5)\n",
    "print(coordinates)\n",
    "print(\"X-coordinate:\",coordinates[0])\n",
    "print(\"Y-coordinates:\",coordinates[1])"
   ]
  }
 ],
 "metadata": {
  "kernelspec": {
   "display_name": "base",
   "language": "python",
   "name": "python3"
  },
  "language_info": {
   "codemirror_mode": {
    "name": "ipython",
    "version": 3
   },
   "file_extension": ".py",
   "mimetype": "text/x-python",
   "name": "python",
   "nbconvert_exporter": "python",
   "pygments_lexer": "ipython3",
   "version": "3.12.4"
  }
 },
 "nbformat": 4,
 "nbformat_minor": 5
}
