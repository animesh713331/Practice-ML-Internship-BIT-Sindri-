{
 "cells": [
  {
   "cell_type": "code",
   "execution_count": 8,
   "metadata": {},
   "outputs": [
    {
     "name": "stdout",
     "output_type": "stream",
     "text": [
      "5\n"
     ]
    }
   ],
   "source": [
    "x=5\n",
    "print(x)"
   ]
  },
  {
   "cell_type": "code",
   "execution_count": 12,
   "metadata": {},
   "outputs": [
    {
     "name": "stdout",
     "output_type": "stream",
     "text": [
      "Number of boys:  5\n",
      "Number of girls:  10\n"
     ]
    }
   ],
   "source": [
    "# taking two inputs at a time\n",
    "x, y = input(\"Enter two values: \").split()\n",
    "print(\"Number of boys: \", x)\n",
    "print(\"Number of girls: \", y)\n",
    " \n",
    "# # taking three inputs at a time\n",
    "# x, y, z = input(\"Enter three values: \")\n",
    "# print(\"Total number of students: \", x)\n",
    "# print(\"Number of boys is : \", y)\n",
    "# print(\"Number of girls is : \", z)"
   ]
  },
  {
   "cell_type": "code",
   "execution_count": 9,
   "metadata": {},
   "outputs": [
    {
     "name": "stdout",
     "output_type": "stream",
     "text": [
      "Hello, Animesh  ! Welcome!\n"
     ]
    }
   ],
   "source": [
    "# Taking Input \n",
    "name = input(\"Enter your name: \")\n",
    "print(\"Hello,\", name, \"! Welcome!\")"
   ]
  },
  {
   "cell_type": "code",
   "execution_count": 2,
   "metadata": {},
   "outputs": [
    {
     "name": "stdout",
     "output_type": "stream",
     "text": [
      "10 10 10\n"
     ]
    }
   ],
   "source": [
    "# Multiple Assignment \n",
    "a=b=c=10\n",
    "print(a,b,c)"
   ]
  },
  {
   "cell_type": "code",
   "execution_count": 4,
   "metadata": {},
   "outputs": [
    {
     "name": "stdout",
     "output_type": "stream",
     "text": [
      "10\n",
      "5.0\n",
      "25\n"
     ]
    }
   ],
   "source": [
    "# Casting Variables\n",
    "\n",
    "s = \"10\"  # Initially a string\n",
    "n = int(s)  # Cast string to integer\n",
    "cnt = 5\n",
    "f = float(cnt)  # Cast integer to float\n",
    "age = 25\n",
    "s2 = str(age)  # Cast integer to string\n",
    "\n",
    "# Display results\n",
    "print(n)  \n",
    "print(f)  \n",
    "print(s2)"
   ]
  },
  {
   "cell_type": "code",
   "execution_count": 5,
   "metadata": {},
   "outputs": [
    {
     "name": "stdout",
     "output_type": "stream",
     "text": [
      "<class 'int'>\n",
      "<class 'float'>\n",
      "<class 'str'>\n",
      "<class 'list'>\n",
      "<class 'dict'>\n",
      "<class 'bool'>\n"
     ]
    }
   ],
   "source": [
    "# Define variables with different data types\n",
    "n = 42\n",
    "f = 3.14\n",
    "s = \"Hello, World!\"\n",
    "li = [1, 2, 3]\n",
    "d = {'key': 'value'}\n",
    "bool = True\n",
    "\n",
    "# Get and print the type of each variable\n",
    "print(type(n))   \n",
    "print(type(f)) \n",
    "print(type(s))   \n",
    "print(type(li))     \n",
    "print(type(d))     \n",
    "print(type(bool))"
   ]
  },
  {
   "cell_type": "code",
   "execution_count": 6,
   "metadata": {},
   "outputs": [
    {
     "name": "stdout",
     "output_type": "stream",
     "text": [
      "I am local\n"
     ]
    }
   ],
   "source": [
    "def f():\n",
    "    a = \"I am local\"\n",
    "    print(a)\n",
    "\n",
    "f()\n",
    "# print(a)  # This would raise an error since 'local_var' is not accessible outside the function"
   ]
  },
  {
   "cell_type": "code",
   "execution_count": 7,
   "metadata": {},
   "outputs": [
    {
     "name": "stdout",
     "output_type": "stream",
     "text": [
      "Modified globally\n",
      "Modified globally\n"
     ]
    }
   ],
   "source": [
    "a = \"I am global\"\n",
    "\n",
    "def f():\n",
    "    global a\n",
    "    a = \"Modified globally\"\n",
    "    print(a)\n",
    "\n",
    "f()\n",
    "print(a)"
   ]
  },
  {
   "cell_type": "code",
   "execution_count": 2,
   "metadata": {},
   "outputs": [
    {
     "name": "stdout",
     "output_type": "stream",
     "text": [
      "Geeks\n",
      "5\n"
     ]
    }
   ],
   "source": [
    "x=5 \n",
    "y=x\n",
    "x=\"Geeks\"\n",
    "print(x)\n",
    "print(y)"
   ]
  },
  {
   "cell_type": "code",
   "execution_count": 4,
   "metadata": {},
   "outputs": [
    {
     "name": "stdout",
     "output_type": "stream",
     "text": [
      "10 5\n",
      "5 10\n"
     ]
    }
   ],
   "source": [
    "#Q1. Swapping \n",
    "a,b=10,5\n",
    "print(a,b)\n",
    "a,b=b,a\n",
    "print(a,b)"
   ]
  },
  {
   "cell_type": "code",
   "execution_count": 5,
   "metadata": {},
   "outputs": [
    {
     "name": "stdout",
     "output_type": "stream",
     "text": [
      "Length of String :  6\n"
     ]
    }
   ],
   "source": [
    "# Q2. Counting Characters in String \n",
    "word=\"Python\"\n",
    "length=len(word)\n",
    "print(\"Length of String : \",length)"
   ]
  },
  {
   "cell_type": "code",
   "execution_count": null,
   "metadata": {},
   "outputs": [],
   "source": []
  }
 ],
 "metadata": {
  "kernelspec": {
   "display_name": "Python 3",
   "language": "python",
   "name": "python3"
  },
  "language_info": {
   "codemirror_mode": {
    "name": "ipython",
    "version": 3
   },
   "file_extension": ".py",
   "mimetype": "text/x-python",
   "name": "python",
   "nbconvert_exporter": "python",
   "pygments_lexer": "ipython3",
   "version": "3.13.1"
  },
  "orig_nbformat": 4,
  "vscode": {
   "interpreter": {
    "hash": "566a68c894c66dec301425ad67da2d222547fd15adc42de478dceb472905f7fa"
   }
  }
 },
 "nbformat": 4,
 "nbformat_minor": 2
}
