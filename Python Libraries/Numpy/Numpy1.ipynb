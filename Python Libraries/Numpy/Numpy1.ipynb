{
 "cells": [
  {
   "cell_type": "code",
   "execution_count": null,
   "id": "6377b521",
   "metadata": {},
   "outputs": [],
   "source": [
    "#Python Numpy\n",
    "\n",
    "# Numpy is a general-purpose array-processing package. It provides a high-performance multidimensional array object, and tools for working with these arrays. It is the fundamental package for scientific computing with Python."
   ]
  },
  {
   "cell_type": "code",
   "execution_count": 18,
   "id": "d7284fb6",
   "metadata": {},
   "outputs": [
    {
     "name": "stdout",
     "output_type": "stream",
     "text": [
      "NumPy Version: 1.26.4\n"
     ]
    }
   ],
   "source": [
    "import numpy as np\n",
    "\n",
    "print(\"NumPy Version:\", np.__version__)\n"
   ]
  },
  {
   "cell_type": "code",
   "execution_count": 19,
   "id": "4b0466ac",
   "metadata": {},
   "outputs": [
    {
     "name": "stdout",
     "output_type": "stream",
     "text": [
      "[1 2 3]\n",
      "[[1 2 3]\n",
      " [4 5 6]]\n",
      "[1 3 2]\n",
      "Zeros:\n",
      " [[0. 0. 0.]\n",
      " [0. 0. 0.]]\n",
      "Ones:\n",
      " [[1. 1. 1.]\n",
      " [1. 1. 1.]]\n",
      "Full:\n",
      " [[7 7]\n",
      " [7 7]]\n",
      "Identity Matrix:\n",
      " [[1. 0. 0.]\n",
      " [0. 1. 0.]\n",
      " [0. 0. 1.]]\n"
     ]
    }
   ],
   "source": [
    "#Arrays in Numpy\n",
    "# Array in Numpy is a table of elements (usually numbers), all of the same type, indexed by a tuple of positive integers. In Numpy, number of dimensions of the array is called rank of the array.\n",
    "\n",
    "#Creating a Numpy Array \n",
    "import numpy as np\n",
    "arr1 = np.array([1,2,3]) #Rank 1 Array\n",
    "print(arr1)\n",
    "\n",
    "arr2 = np.array([[1,2,3],\n",
    "               [4,5,6]]) #Rank 2 Array\n",
    "print(arr2)\n",
    "\n",
    "#Creating an array from tuple\n",
    "arr=np.array((1,3,2))\n",
    "print(arr)\n",
    "\n",
    "#Special Arrays\n",
    "zeros = np.zeros((2, 3))\n",
    "ones = np.ones((2, 3))\n",
    "full = np.full((2, 2), 7)\n",
    "eye = np.eye(3)\n",
    "\n",
    "print(\"Zeros:\\n\", zeros)\n",
    "print(\"Ones:\\n\", ones)\n",
    "print(\"Full:\\n\", full)\n",
    "print(\"Identity Matrix:\\n\", eye)\n",
    "\n"
   ]
  },
  {
   "cell_type": "code",
   "execution_count": 11,
   "id": "5955e142",
   "metadata": {},
   "outputs": [
    {
     "name": "stdout",
     "output_type": "stream",
     "text": [
      "Arange: [0 2 4 6 8]\n",
      "Linspace: [0.   0.25 0.5  0.75 1.  ]\n"
     ]
    }
   ],
   "source": [
    "# Ranges\n",
    "# np.arange(start, stop, step) generates values from start to stop (exclusive) with a given step\n",
    "arange = np.arange(0, 10, 2)  # Output: [0 2 4 6 8]\n",
    "\n",
    "# np.linspace(start, stop, num) generates num evenly spaced values between start and stop (inclusive)\n",
    "linspace = np.linspace(0, 1, 5)  # Output: [0.   0.25 0.5  0.75 1.  ]\n",
    "\n",
    "print(\"Arange:\", arange)\n",
    "print(\"Linspace:\", linspace)"
   ]
  },
  {
   "cell_type": "code",
   "execution_count": 12,
   "id": "c0094d9d",
   "metadata": {},
   "outputs": [
    {
     "name": "stdout",
     "output_type": "stream",
     "text": [
      "[[1 2 3]\n",
      " [4 5 6]\n",
      " [7 8 9]]\n",
      "Shape: (3, 3)\n",
      "Dimensions: 2\n",
      "Size: 9\n",
      "Data type: int32\n"
     ]
    }
   ],
   "source": [
    "#Array Attributes\n",
    "arr2 = np.array([[1,2,3],[4,5,6],[7,8,9]]) #Rank 2 Array\n",
    "print(arr2)\n",
    "print(\"Shape:\", arr2.shape)\n",
    "print(\"Dimensions:\", arr2.ndim)\n",
    "print(\"Size:\", arr2.size)\n",
    "print(\"Data type:\", arr2.dtype)"
   ]
  },
  {
   "cell_type": "code",
   "execution_count": 16,
   "id": "c8fc9ab3",
   "metadata": {},
   "outputs": [
    {
     "name": "stdout",
     "output_type": "stream",
     "text": [
      "Element at row 1, col 2: 60\n",
      "First row: [10 20 30]\n",
      "First column: [10 40 70]\n",
      "Sub-array from (1,1) to end:\n",
      " [[50 60]\n",
      " [80 90]]\n",
      "Middle column: [20 50 80]\n",
      "Last row reversed: [90 80 70]\n",
      "Diagonal: [10 50 90]\n"
     ]
    }
   ],
   "source": [
    "#Array slicing and indexing \n",
    "arr = np.array([[10, 20, 30],\n",
    "                [40, 50, 60],\n",
    "                [70, 80, 90]])\n",
    "\n",
    "# Accessing individual elements\n",
    "print(\"Element at row 1, col 2:\", arr[1, 2])  # 60\n",
    "\n",
    "# Accessing full row or column\n",
    "print(\"First row:\", arr[0])       # [10 20 30]\n",
    "print(\"First column:\", arr[:, 0]) # [10 40 70]\n",
    "\n",
    "# Slicing: extracting sub-arrays\n",
    "print(\"Sub-array from (1,1) to end:\\n\", arr[1:, 1:])\n",
    "# Output: [[50 60], [80 90]]\n",
    "\n",
    "# More slicing examples\n",
    "print(\"Middle column:\", arr[:, 1])         # [20 50 80]\n",
    "print(\"Last row reversed:\", arr[2, ::-1])   # [90 80 70]\n",
    "print(\"Diagonal:\", arr.diagonal())          # [10 50 90]"
   ]
  },
  {
   "cell_type": "code",
   "execution_count": 17,
   "id": "b7d78f45",
   "metadata": {},
   "outputs": [
    {
     "name": "stdout",
     "output_type": "stream",
     "text": [
      "Add: [5 7 9]\n",
      "Multiply: [ 4 10 18]\n",
      "Exponent: [1 4 9]\n",
      "Square root: [1.         1.41421356 1.73205081]\n",
      "Matrix + 10:\n",
      " [[11 12 13]\n",
      " [14 15 16]]\n"
     ]
    }
   ],
   "source": [
    "#Array Operations\n",
    "a=np.array([1, 2, 3])\n",
    "b=np.array([4, 5, 6])\n",
    "\n",
    "print(\"Add:\", a + b)             # [5 7 9]\n",
    "print(\"Multiply:\", a * b)       # [4 10 18]\n",
    "print(\"Exponent:\", a ** 2)      # [1 4 9]\n",
    "print(\"Square root:\", np.sqrt(a)) # [1. 1.41 1.73]\n",
    "\n",
    "# Broadcasting: apply operation to all rows\n",
    "matrix = np.array([[1, 2, 3], [4, 5, 6]])\n",
    "print(\"Matrix + 10:\\n\", matrix + 10)"
   ]
  },
  {
   "cell_type": "code",
   "execution_count": 20,
   "id": "07fc06ba",
   "metadata": {},
   "outputs": [
    {
     "name": "stdout",
     "output_type": "stream",
     "text": [
      "Mean: 3.5\n",
      "Median: 3.5\n",
      "Standard Deviation: 1.707825127659933\n",
      "Max: 6\n",
      "Min: 1\n"
     ]
    }
   ],
   "source": [
    "#Statistics \n",
    "\n",
    "stats=np.array([[1,2,3],[4,5,6]])\n",
    "print(\"Mean:\",np.mean(stats)) #Average of all elements\n",
    "print(\"Median:\",np.median(stats)) #Middle Value\n",
    "print(\"Standard Deviation:\",np.std(stats))\n",
    "print(\"Max:\",np.max(stats))\n",
    "print(\"Min:\",np.min(stats))\n"
   ]
  },
  {
   "cell_type": "code",
   "execution_count": 22,
   "id": "3bf006ba",
   "metadata": {},
   "outputs": [
    {
     "name": "stdout",
     "output_type": "stream",
     "text": [
      "Reshaped to 3x2:\n",
      " [[1 2]\n",
      " [3 4]\n",
      " [5 6]]\n",
      "Flattened: [1 2 3 4 5 6]\n"
     ]
    }
   ],
   "source": [
    "#Reshaping & Flattening\n",
    "\n",
    "arr = np.array([[1, 2, 3], [4, 5, 6]])\n",
    "reshaped = arr.reshape((3, 2))   # Change shape to 3 rows, 2 cols\n",
    "flattened = arr.flatten()       # Convert to 1D\n",
    "\n",
    "print(\"Reshaped to 3x2:\\n\", reshaped)\n",
    "print(\"Flattened:\", flattened)"
   ]
  },
  {
   "cell_type": "code",
   "execution_count": 23,
   "id": "fe4f2dd4",
   "metadata": {},
   "outputs": [
    {
     "name": "stdout",
     "output_type": "stream",
     "text": [
      "Horizontal Stack: [1 2 3 4 5 6]\n",
      "Vertical Stack:\n",
      " [[1 2 3]\n",
      " [4 5 6]]\n"
     ]
    }
   ],
   "source": [
    "# Stacking & Splitting\n",
    "a = np.array([1, 2, 3])\n",
    "b = np.array([4, 5, 6])\n",
    "\n",
    "print(\"Horizontal Stack:\", np.hstack((a, b)))  # [1 2 3 4 5 6]\n",
    "print(\"Vertical Stack:\\n\", np.vstack((a, b)))   # [[1 2 3], [4 5 6]]"
   ]
  },
  {
   "cell_type": "code",
   "execution_count": 24,
   "id": "f40292aa",
   "metadata": {},
   "outputs": [
    {
     "name": "stdout",
     "output_type": "stream",
     "text": [
      "Random Array: [[0.37454012 0.95071431]\n",
      " [0.73199394 0.59865848]]\n",
      "Random Integers: [[6 9 2]\n",
      " [6 7 4]]\n"
     ]
    }
   ],
   "source": [
    "# Random Numbers\n",
    "np.random.seed(42)\n",
    "print(\"Random Array:\", np.random.rand(2, 2))\n",
    "print(\"Random Integers:\", np.random.randint(0, 10, (2, 3)))"
   ]
  },
  {
   "cell_type": "code",
   "execution_count": 25,
   "id": "b3500b6e",
   "metadata": {},
   "outputs": [
    {
     "name": "stdout",
     "output_type": "stream",
     "text": [
      "Is NaN: [False False  True False]\n",
      "Mean ignoring NaN: 2.3333333333333335\n",
      "Replace NaN: [1. 2. 0. 4.]\n"
     ]
    }
   ],
   "source": [
    "#Missing/Special Values\n",
    "\n",
    "arr = np.array([1, 2, np.nan, 4])\n",
    "print(\"Is NaN:\", np.isnan(arr))\n",
    "print(\"Mean ignoring NaN:\", np.nanmean(arr))\n",
    "print(\"Replace NaN:\", np.nan_to_num(arr))"
   ]
  },
  {
   "cell_type": "code",
   "execution_count": 26,
   "id": "4034aebd",
   "metadata": {},
   "outputs": [
    {
     "name": "stdout",
     "output_type": "stream",
     "text": [
      "Numpy array from DataFrame:\n",
      " [[150  60]\n",
      " [160  65]\n",
      " [170  72]]\n",
      "BMI: [26.66666667 25.390625   24.91349481]\n"
     ]
    }
   ],
   "source": [
    "# NumPy + Data Analysis\n",
    "\n",
    "import pandas as pd\n",
    "\n",
    "df = pd.DataFrame({\n",
    "    'height': [150, 160, 170],\n",
    "    'weight': [60, 65, 72]\n",
    "})\n",
    "\n",
    "arr = df.values\n",
    "print(\"Numpy array from DataFrame:\\n\", arr)\n",
    "print(\"BMI:\", arr[:,1] / (arr[:,0]/100)**2)"
   ]
  },
  {
   "cell_type": "code",
   "execution_count": 27,
   "id": "27633c11",
   "metadata": {},
   "outputs": [
    {
     "name": "stdout",
     "output_type": "stream",
     "text": [
      "Linear Regression: y = 0.70x + 1.90\n"
     ]
    }
   ],
   "source": [
    "#  NumPy in ML (Linear Regression Example)\n",
    "\n",
    "X = np.array([1, 2, 3, 4, 5])\n",
    "y = np.array([3, 4, 2, 5, 6])\n",
    "\n",
    "X_mean = np.mean(X)\n",
    "y_mean = np.mean(y)\n",
    "\n",
    "numerator = np.sum((X - X_mean) * (y - y_mean))\n",
    "denominator = np.sum((X - X_mean) ** 2)\n",
    "m = numerator / denominator\n",
    "c = y_mean - m * X_mean\n",
    "\n",
    "print(\"Linear Regression: y = {:.2f}x + {:.2f}\".format(m, c))"
   ]
  }
 ],
 "metadata": {
  "kernelspec": {
   "display_name": "base",
   "language": "python",
   "name": "python3"
  },
  "language_info": {
   "codemirror_mode": {
    "name": "ipython",
    "version": 3
   },
   "file_extension": ".py",
   "mimetype": "text/x-python",
   "name": "python",
   "nbconvert_exporter": "python",
   "pygments_lexer": "ipython3",
   "version": "3.12.4"
  }
 },
 "nbformat": 4,
 "nbformat_minor": 5
}
