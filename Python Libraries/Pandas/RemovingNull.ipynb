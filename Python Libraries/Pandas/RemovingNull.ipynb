{
 "cells": [
  {
   "cell_type": "markdown",
   "id": "96b757bb",
   "metadata": {},
   "source": [
    "### Data Preprocessing - Removing Null Value Rows\n",
    "\n",
    "While making a Data Frame from a csv file, many blank columns are imported as null value into the Data Frame which later creates problems while operating that data frame. Pandas isnull() and notnull() methods are used to check and manage NULL values in a data frame."
   ]
  },
  {
   "cell_type": "code",
   "execution_count": 2,
   "id": "4af80c4e",
   "metadata": {},
   "outputs": [],
   "source": [
    "import pandas as pd \n",
    "data = pd.read_csv(\"googleplaystore.csv\")"
   ]
  },
  {
   "cell_type": "code",
   "execution_count": 3,
   "id": "8f61810e",
   "metadata": {},
   "outputs": [
    {
     "name": "stdout",
     "output_type": "stream",
     "text": [
      "App                  0\n",
      "Category             0\n",
      "Rating            1474\n",
      "Reviews              0\n",
      "Size                 0\n",
      "Installs             0\n",
      "Type                 1\n",
      "Price                0\n",
      "Content Rating       1\n",
      "Genres               0\n",
      "Last Updated         0\n",
      "Current Ver          8\n",
      "Android Ver          3\n",
      "dtype: int64\n"
     ]
    }
   ],
   "source": [
    "# 1. Checking for Null Values\n",
    "# Dataframe.isnull()\n",
    "# Syntax:Pandas.isnull(“DataFrame Name”) or DataFrame.isnull()\n",
    "# Parameters: Object to check null values for\n",
    "# Return Type: Dataframe of Boolean values which are True for NaN values \n",
    "print(data.isnull().sum())"
   ]
  },
  {
   "cell_type": "code",
   "execution_count": 9,
   "id": "3c14f908",
   "metadata": {},
   "outputs": [
    {
     "name": "stdout",
     "output_type": "stream",
     "text": [
      "App               0\n",
      "Category          0\n",
      "Rating            0\n",
      "Reviews           0\n",
      "Size              0\n",
      "Installs          0\n",
      "Type              0\n",
      "Price             0\n",
      "Content Rating    0\n",
      "Genres            0\n",
      "Last Updated      0\n",
      "Current Ver       0\n",
      "Android Ver       0\n",
      "dtype: int64\n",
      "(9360, 13)\n"
     ]
    }
   ],
   "source": [
    "# 2. Handling Null Values\n",
    "# So we can delete all the rows which are present in our dataframe with the help of dropna() function. Let us see the implementation of that now.\n",
    "\n",
    "df=data.dropna()\n",
    "print(df.isnull().sum())\n",
    "print(df.shape)"
   ]
  }
 ],
 "metadata": {
  "kernelspec": {
   "display_name": "base",
   "language": "python",
   "name": "python3"
  },
  "language_info": {
   "codemirror_mode": {
    "name": "ipython",
    "version": 3
   },
   "file_extension": ".py",
   "mimetype": "text/x-python",
   "name": "python",
   "nbconvert_exporter": "python",
   "pygments_lexer": "ipython3",
   "version": "3.12.4"
  }
 },
 "nbformat": 4,
 "nbformat_minor": 5
}
