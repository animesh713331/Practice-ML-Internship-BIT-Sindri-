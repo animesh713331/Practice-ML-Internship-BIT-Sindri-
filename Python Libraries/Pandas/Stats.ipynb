{
 "cells": [
  {
   "cell_type": "code",
   "execution_count": 3,
   "id": "6d74f92d",
   "metadata": {},
   "outputs": [],
   "source": [
    "import numpy as np\n",
    "import pandas as pd"
   ]
  },
  {
   "cell_type": "code",
   "execution_count": 4,
   "id": "f3dc8d9f",
   "metadata": {},
   "outputs": [
    {
     "name": "stdout",
     "output_type": "stream",
     "text": [
      "4.333333333333333\n",
      "4.333333333333333\n"
     ]
    }
   ],
   "source": [
    "#Mean Median & Mode\n",
    "# First Way\n",
    "arr = np.array([1, 2, 3, 4, 7, 9])\n",
    "mean = sum(arr)/len(arr)\n",
    "print(mean)\n",
    "\n",
    "# 2nd Way\n",
    "print(np.mean(arr))"
   ]
  },
  {
   "cell_type": "code",
   "execution_count": 5,
   "id": "a7d3ab6f",
   "metadata": {},
   "outputs": [
    {
     "data": {
      "text/plain": [
       "5.666666666666667"
      ]
     },
     "execution_count": 5,
     "metadata": {},
     "output_type": "execute_result"
    }
   ],
   "source": [
    "#Weighted Average \n",
    "# Weighted Average = ( w1 × X1 + w2 × X2 + w3 × X3 + w4 × X4 +…..+ wn × Xn)/(w1 + w2 + w3 + w4 +…….+ wn)\n",
    "# W = ∑wi × xi/ ∑wi\n",
    "# W = Sum of (Product of weights with their respective quantities)/ Sum of all the weights\n",
    "\n",
    "arr=np.array([1,2,3,4,7,9])\n",
    "weight=np.array([1,2,3,4,5,6])\n",
    "np.average(arr,weights=weight)\n"
   ]
  },
  {
   "cell_type": "code",
   "execution_count": 6,
   "id": "1c682b8a",
   "metadata": {},
   "outputs": [
    {
     "data": {
      "text/plain": [
       "3.5"
      ]
     },
     "execution_count": 6,
     "metadata": {},
     "output_type": "execute_result"
    }
   ],
   "source": [
    "#Median \n",
    "#numpy.median(arr, axis = None) \n",
    "arr=np.array([1,2,3,4,7,9])\n",
    "np.median(arr)"
   ]
  },
  {
   "cell_type": "code",
   "execution_count": 7,
   "id": "285707c7",
   "metadata": {},
   "outputs": [
    {
     "name": "stdout",
     "output_type": "stream",
     "text": [
      "[(2, 6)]\n"
     ]
    }
   ],
   "source": [
    "#Mode\n",
    "#Mode is the number that occurs most often within a set of numbers\n",
    "arr=np.array([1,2,1,1,3,2,2,2,2,2,6,7,8,8,8,10,4,7,9])\n",
    "from collections import Counter\n",
    "count=Counter(arr)\n",
    "print(count.most_common(1)) #1 here means the first max one"
   ]
  },
  {
   "cell_type": "code",
   "execution_count": null,
   "id": "6b2260a0",
   "metadata": {},
   "outputs": [],
   "source": []
  }
 ],
 "metadata": {
  "kernelspec": {
   "display_name": "base",
   "language": "python",
   "name": "python3"
  },
  "language_info": {
   "codemirror_mode": {
    "name": "ipython",
    "version": 3
   },
   "file_extension": ".py",
   "mimetype": "text/x-python",
   "name": "python",
   "nbconvert_exporter": "python",
   "pygments_lexer": "ipython3",
   "version": "3.12.4"
  }
 },
 "nbformat": 4,
 "nbformat_minor": 5
}
