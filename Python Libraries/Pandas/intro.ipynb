{
 "cells": [
  {
   "cell_type": "code",
   "execution_count": 1,
   "id": "6560a1ce",
   "metadata": {},
   "outputs": [
    {
     "name": "stdout",
     "output_type": "stream",
     "text": [
      "Requirement already satisfied: pandas in c:\\users\\anime\\anaconda3\\lib\\site-packages (2.2.2)\n",
      "Requirement already satisfied: numpy>=1.26.0 in c:\\users\\anime\\anaconda3\\lib\\site-packages (from pandas) (1.26.4)\n",
      "Requirement already satisfied: python-dateutil>=2.8.2 in c:\\users\\anime\\anaconda3\\lib\\site-packages (from pandas) (2.9.0.post0)\n",
      "Requirement already satisfied: pytz>=2020.1 in c:\\users\\anime\\anaconda3\\lib\\site-packages (from pandas) (2024.1)\n",
      "Requirement already satisfied: tzdata>=2022.7 in c:\\users\\anime\\anaconda3\\lib\\site-packages (from pandas) (2023.3)\n",
      "Requirement already satisfied: six>=1.5 in c:\\users\\anime\\anaconda3\\lib\\site-packages (from python-dateutil>=2.8.2->pandas) (1.16.0)\n"
     ]
    }
   ],
   "source": [
    "!pip install pandas"
   ]
  },
  {
   "cell_type": "code",
   "execution_count": null,
   "id": "c9de6879",
   "metadata": {},
   "outputs": [],
   "source": [
    "# Pandas is an open-source library that is built on top of NumPy library. It is a Python package that offers various data structures and operations for manipulating numerical data and time series."
   ]
  },
  {
   "cell_type": "markdown",
   "id": "6c2e9324",
   "metadata": {},
   "source": [
    "Pandas Series is a one-dimensional labeled array capable of holding data of any type (integer, string, float, python objects, etc.). The axis labels are collectively called index. Pandas Series is nothing but a column in an excel sheet\n",
    "\n",
    "![PandasAsExcel](./Screenshot%202025-06-24%20105502.png)"
   ]
  },
  {
   "cell_type": "code",
   "execution_count": 2,
   "id": "cb25c469",
   "metadata": {},
   "outputs": [
    {
     "name": "stdout",
     "output_type": "stream",
     "text": [
      "0    a\n",
      "1    n\n",
      "2    i\n",
      "3    m\n",
      "4    e\n",
      "5    s\n",
      "6    h\n",
      "dtype: object\n"
     ]
    }
   ],
   "source": [
    "#Creating a series from Numpy\n",
    "import pandas as pd\n",
    "import numpy as np\n",
    "#Simple Array\n",
    "data = np.array(['a','n','i','m','e','s','h'])\n",
    "ser=pd.Series(data)\n",
    "print(ser)"
   ]
  },
  {
   "cell_type": "code",
   "execution_count": 3,
   "id": "fa1dbce8",
   "metadata": {},
   "outputs": [
    {
     "name": "stdout",
     "output_type": "stream",
     "text": [
      "0    a\n",
      "1    b\n",
      "2    c\n",
      "3    d\n",
      "dtype: object\n"
     ]
    }
   ],
   "source": [
    "# Series with the help of List\n",
    "data = pd.Series(['a', 'b', 'c', 'd'])\n",
    "print(data)"
   ]
  },
  {
   "cell_type": "code",
   "execution_count": 4,
   "id": "a618813f",
   "metadata": {},
   "outputs": [
    {
     "name": "stdout",
     "output_type": "stream",
     "text": [
      "   A  B  C  D  E\n",
      "0  1  2  3  4  5\n",
      "1  1  2  3  4  5\n",
      "2  1  2  3  4  5\n",
      "3  1  2  3  4  5\n",
      "4  1  2  3  4  5\n",
      "5  1  2  3  4  5\n",
      "6  1  2  3  4  5\n",
      "7  1  2  3  4  5\n",
      "8  1  2  3  4  5\n"
     ]
    }
   ],
   "source": [
    "#Creating dataframe using List\n",
    "import pandas as pd \n",
    "lst=[1,2,3,4,5]\n",
    "df=pd.DataFrame([lst, lst, lst, lst, lst, lst, lst, lst, lst],\n",
    "                columns=['A','B','C','D','E'])\n",
    "print(df)"
   ]
  },
  {
   "cell_type": "code",
   "execution_count": 10,
   "id": "e1279b19",
   "metadata": {},
   "outputs": [
    {
     "name": "stdout",
     "output_type": "stream",
     "text": [
      "    Name  Age\n",
      "0    Tom   20\n",
      "1   nick   21\n",
      "2  krish   19\n",
      "3   jack   18\n",
      "<class 'pandas.core.frame.DataFrame'>\n"
     ]
    }
   ],
   "source": [
    "#Creating DataFrame from dict of ndarray/lists\n",
    "import pandas as pd\n",
    "#initialise data of lists\n",
    "data={'Name':['Tom', 'nick', 'krish', 'jack'],\n",
    "      'Age':[20,21,19,18]}\n",
    "#Create DataFrame\n",
    "df=pd.DataFrame(data)\n",
    "#Output\n",
    "print(df)\n",
    "print(type(df))  # Output: <class 'pandas.core.frame.DataFrame'>\n",
    "# print(type(series))  # Output: <class 'pandas.core.series.Series'>\n",
    "# del df\n",
    "# print(df)  # This will raise a NameError since df no longer exists."
   ]
  }
 ],
 "metadata": {
  "kernelspec": {
   "display_name": "base",
   "language": "python",
   "name": "python3"
  },
  "language_info": {
   "codemirror_mode": {
    "name": "ipython",
    "version": 3
   },
   "file_extension": ".py",
   "mimetype": "text/x-python",
   "name": "python",
   "nbconvert_exporter": "python",
   "pygments_lexer": "ipython3",
   "version": "3.12.4"
  }
 },
 "nbformat": 4,
 "nbformat_minor": 5
}
