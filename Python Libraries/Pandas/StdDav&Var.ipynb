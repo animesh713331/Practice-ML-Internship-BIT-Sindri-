{
 "cells": [
  {
   "cell_type": "markdown",
   "id": "7c4e9cbb",
   "metadata": {},
   "source": [
    "### Standard Deviation\n",
    "Standard deviation is a metric that represents the amount to which various values of a statistical series tend to fluctuate or disperse from its mean or median.\n",
    "![StandardDEviation](./Screenshot%202025-06-24%20122539.png)"
   ]
  },
  {
   "cell_type": "code",
   "execution_count": 1,
   "id": "3cc3ff13",
   "metadata": {},
   "outputs": [
    {
     "name": "stdout",
     "output_type": "stream",
     "text": [
      "3.337497399083464\n"
     ]
    }
   ],
   "source": [
    "#Python Implementation\n",
    "import numpy as np\n",
    "\n",
    "def standard_deviation(arr):\n",
    "    mean=arr.mean()\n",
    "    final_val=0\n",
    "    for i in arr:\n",
    "        val=(i-mean)**2\n",
    "        final_val+=val\n",
    "    return (final_val/len(arr))**0.5\n",
    "  \n",
    "values=np.array([7,5,9,10,4,14])\n",
    "sd=standard_deviation(values)\n",
    "print(sd)"
   ]
  },
  {
   "cell_type": "markdown",
   "id": "ce9fc5cc",
   "metadata": {},
   "source": [
    "### Variance\n",
    "Variance is defined as a measure of dispersion, a metric used to assess the variability of data around an average value. It is a statistical measurement used to determine the spread of values in a data collection in relation to the average or mean value. Variance is divided into two main categories: population variance and sample variance.\n",
    "![Variance](./Screenshot%202025-06-24%20122807.png)"
   ]
  },
  {
   "cell_type": "code",
   "execution_count": 2,
   "id": "80926261",
   "metadata": {},
   "outputs": [
    {
     "name": "stdout",
     "output_type": "stream",
     "text": [
      "11.138888888888888\n"
     ]
    }
   ],
   "source": [
    "#Python Implementation\n",
    "import numpy as np\n",
    "\n",
    "def standard_deviation(arr):\n",
    "    mean=arr.mean()\n",
    "    final_val=0\n",
    "    for i in arr:\n",
    "        val=(i-mean)**2\n",
    "        final_val+=val\n",
    "    return (final_val/len(arr))**0.5\n",
    "  \n",
    "values=np.array([7,5,9,10,4,14])\n",
    "sd=standard_deviation(values)\n",
    "print(sd**2)"
   ]
  }
 ],
 "metadata": {
  "kernelspec": {
   "display_name": "base",
   "language": "python",
   "name": "python3"
  },
  "language_info": {
   "codemirror_mode": {
    "name": "ipython",
    "version": 3
   },
   "file_extension": ".py",
   "mimetype": "text/x-python",
   "name": "python",
   "nbconvert_exporter": "python",
   "pygments_lexer": "ipython3",
   "version": "3.12.4"
  }
 },
 "nbformat": 4,
 "nbformat_minor": 5
}
